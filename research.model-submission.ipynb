{
 "cells": [
  {
   "cell_type": "code",
   "execution_count": null,
   "id": "e11f9202-a17b-44cd-a6d9-4124d8144215",
   "metadata": {
    "jupyter": {
     "outputs_hidden": true
    },
    "tags": []
   },
   "outputs": [
    {
     "name": "stdout",
     "output_type": "stream",
     "text": [
      "Collecting pyrosm\n",
      "  Downloading pyrosm-0.6.1.tar.gz (2.1 MB)\n",
      "\u001b[2K     \u001b[38;2;114;156;31m━━━━━━━━━━━━━━━━━━━━━━━━━━━━━━━━━━━━━━━━\u001b[0m \u001b[32m2.1/2.1 MB\u001b[0m \u001b[31m3.3 MB/s\u001b[0m eta \u001b[36m0:00:00\u001b[0mm eta \u001b[36m0:00:01\u001b[0m[36m0:00:01\u001b[0m\n",
      "\u001b[?25h  Installing build dependencies ... \u001b[?25l\\"
     ]
    }
   ],
   "source": [
    "!pip install pyrosm"
   ]
  },
  {
   "cell_type": "code",
   "execution_count": null,
   "id": "2be02f69-6f37-4e74-9029-ba6db198faa9",
   "metadata": {},
   "outputs": [],
   "source": [
    "import geopandas as gpd\n",
    "import pandas as pd\n",
    "import pyrosm"
   ]
  },
  {
   "cell_type": "code",
   "execution_count": null,
   "id": "01332c55-1ed2-4733-a22a-5d0e56d6f5f5",
   "metadata": {},
   "outputs": [],
   "source": [
    "# Initialize the OSM object \n",
    "osm = pyrosm.OSM('datasets/odessa_oblast-latest.osm.pbf')\n",
    "\n",
    "# See the type\n",
    "print(\"Type of 'osm' instance: \", type(osm))"
   ]
  },
  {
   "cell_type": "code",
   "execution_count": null,
   "id": "2b9aca9d-4288-4227-b6d7-5261b461195a",
   "metadata": {},
   "outputs": [],
   "source": [
    "nodes_net, drive_net = osm.get_network(nodes=True, network_type=\"driving\")\n",
    "print(nodes_net.shape)\n",
    "print(drive_net.shape)"
   ]
  },
  {
   "cell_type": "code",
   "execution_count": null,
   "id": "b926b15c-cf33-4734-8b7b-05d2a241e8fa",
   "metadata": {},
   "outputs": [],
   "source": [
    "drive_net.plot()"
   ]
  },
  {
   "cell_type": "code",
   "execution_count": null,
   "id": "71437e00-96f9-49dc-a6b2-c7af7e9f1746",
   "metadata": {},
   "outputs": [],
   "source": [
    "nodes_net.plot()"
   ]
  },
  {
   "cell_type": "code",
   "execution_count": null,
   "id": "278fd3ea-37df-4462-9aee-acaa92f237b7",
   "metadata": {},
   "outputs": [],
   "source": [
    "nodes_df = pd.read_csv('./nodes.csv')\n",
    "nodes_df"
   ]
  },
  {
   "cell_type": "code",
   "execution_count": null,
   "id": "2ceaea10-1d8a-4863-8ed9-dd70a6079fdc",
   "metadata": {},
   "outputs": [],
   "source": [
    "nodes_net"
   ]
  },
  {
   "cell_type": "code",
   "execution_count": null,
   "id": "ad47669c-07dc-4c18-a202-40a408f58c41",
   "metadata": {},
   "outputs": [],
   "source": [
    "nodes_df = nodes_df.merge(nodes_net, left_on=['node_start'], right_on=['id'])\n",
    "nodes_df = nodes_df.merge(nodes_net, left_on=['node_start'], right_on=['id'], suffixes=('_start' ,'_end'))\n",
    "\n",
    "nodes_df"
   ]
  },
  {
   "cell_type": "code",
   "execution_count": null,
   "id": "ddfc5d8a-0726-4182-b50f-126d84b93bed",
   "metadata": {},
   "outputs": [],
   "source": [
    "nodes_df.columns"
   ]
  },
  {
   "cell_type": "code",
   "execution_count": null,
   "id": "014ce384-5dea-44b5-8b5f-9b365056d8f3",
   "metadata": {},
   "outputs": [],
   "source": [
    "nodes_df = nodes_df.drop(columns=['timestamp_start', 'timestamp_end', 'version_start', 'version_end', 'changeset_start', 'changeset_end', 'id_start', 'id_end', 'geometry_end', 'geometry_start'])"
   ]
  },
  {
   "cell_type": "code",
   "execution_count": null,
   "id": "49c74e07-4f28-4c77-a536-364dd09b9e7b",
   "metadata": {},
   "outputs": [],
   "source": [
    "nodes_df.columns"
   ]
  },
  {
   "cell_type": "code",
   "execution_count": null,
   "id": "ac663f42-6d49-475c-aa0a-4b6736382526",
   "metadata": {},
   "outputs": [],
   "source": [
    "nodes_df.to_csv('datasets/geolocation.csv')"
   ]
  },
  {
   "cell_type": "code",
   "execution_count": null,
   "id": "a8687ef5-f2a1-493d-af01-246e9997e481",
   "metadata": {},
   "outputs": [],
   "source": [
    "nodes_df.size"
   ]
  }
 ],
 "metadata": {
  "kernelspec": {
   "display_name": "Python 3 (ipykernel)",
   "language": "python",
   "name": "python3"
  },
  "language_info": {
   "codemirror_mode": {
    "name": "ipython",
    "version": 3
   },
   "file_extension": ".py",
   "mimetype": "text/x-python",
   "name": "python",
   "nbconvert_exporter": "python",
   "pygments_lexer": "ipython3",
   "version": "3.11.2"
  }
 },
 "nbformat": 4,
 "nbformat_minor": 5
}
