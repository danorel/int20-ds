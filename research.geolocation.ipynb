{
 "cells": [
  {
   "cell_type": "code",
   "execution_count": 1,
   "id": "2be02f69-6f37-4e74-9029-ba6db198faa9",
   "metadata": {},
   "outputs": [
    {
     "name": "stderr",
     "output_type": "stream",
     "text": [
      "/Users/danorel/Workspace/Hobbies/Programming/Hachaton/int20-ds/venv/lib/python3.10/site-packages/geopandas/_compat.py:123: UserWarning: The Shapely GEOS version (3.11.1-CAPI-1.17.1) is incompatible with the GEOS version PyGEOS was compiled with (3.10.4-CAPI-1.16.2). Conversions between both will be slow.\n",
      "  warnings.warn(\n",
      "/var/folders/bq/06qr0b4j0rl0fv6kwt_jr4lw0000gn/T/ipykernel_36209/558989996.py:1: UserWarning: Shapely 2.0 is installed, but because PyGEOS is also installed, GeoPandas will still use PyGEOS by default for now. To force to use and test Shapely 2.0, you have to set the environment variable USE_PYGEOS=0. You can do this before starting the Python process, or in your code before importing geopandas:\n",
      "\n",
      "import os\n",
      "os.environ['USE_PYGEOS'] = '0'\n",
      "import geopandas\n",
      "\n",
      "In a future release, GeoPandas will switch to using Shapely by default. If you are using PyGEOS directly (calling PyGEOS functions on geometries from GeoPandas), this will then stop working and you are encouraged to migrate from PyGEOS to Shapely 2.0 (https://shapely.readthedocs.io/en/latest/migration_pygeos.html).\n",
      "  import geopandas as gpd\n"
     ]
    }
   ],
   "source": [
    "import geopandas as gpd\n",
    "import pandas as pd\n",
    "import pyrosm"
   ]
  },
  {
   "cell_type": "code",
   "execution_count": 2,
   "id": "01332c55-1ed2-4733-a22a-5d0e56d6f5f5",
   "metadata": {},
   "outputs": [
    {
     "name": "stdout",
     "output_type": "stream",
     "text": [
      "Type of 'osm' instance:  <class 'pyrosm.pyrosm.OSM'>\n"
     ]
    }
   ],
   "source": [
    "# Initialize the OSM object \n",
    "osm = pyrosm.OSM('datasets/odessa_oblast-latest.osm.pbf')\n",
    "\n",
    "# See the type\n",
    "print(\"Type of 'osm' instance: \", type(osm))"
   ]
  },
  {
   "cell_type": "code",
   "execution_count": 3,
   "id": "2b9aca9d-4288-4227-b6d7-5261b461195a",
   "metadata": {},
   "outputs": [
    {
     "ename": "AttributeError",
     "evalue": "module 'numpy' has no attribute 'float'",
     "output_type": "error",
     "traceback": [
      "\u001b[0;31m---------------------------------------------------------------------------\u001b[0m",
      "\u001b[0;31mAttributeError\u001b[0m                            Traceback (most recent call last)",
      "Cell \u001b[0;32mIn[3], line 1\u001b[0m\n\u001b[0;32m----> 1\u001b[0m nodes_net, drive_net \u001b[38;5;241m=\u001b[39m \u001b[43mosm\u001b[49m\u001b[38;5;241;43m.\u001b[39;49m\u001b[43mget_network\u001b[49m\u001b[43m(\u001b[49m\u001b[43mnodes\u001b[49m\u001b[38;5;241;43m=\u001b[39;49m\u001b[38;5;28;43;01mTrue\u001b[39;49;00m\u001b[43m,\u001b[49m\u001b[43m \u001b[49m\u001b[43mnetwork_type\u001b[49m\u001b[38;5;241;43m=\u001b[39;49m\u001b[38;5;124;43m\"\u001b[39;49m\u001b[38;5;124;43mdriving\u001b[39;49m\u001b[38;5;124;43m\"\u001b[39;49m\u001b[43m)\u001b[49m\n\u001b[1;32m      2\u001b[0m \u001b[38;5;28mprint\u001b[39m(nodes_net\u001b[38;5;241m.\u001b[39mshape)\n\u001b[1;32m      3\u001b[0m \u001b[38;5;28mprint\u001b[39m(drive_net\u001b[38;5;241m.\u001b[39mshape)\n",
      "File \u001b[0;32m~/Workspace/Hobbies/Programming/Hachaton/int20-ds/venv/lib/python3.10/site-packages/pyrosm/pyrosm.py:205\u001b[0m, in \u001b[0;36mOSM.get_network\u001b[0;34m(self, network_type, extra_attributes, nodes)\u001b[0m\n\u001b[1;32m    202\u001b[0m     \u001b[38;5;28mself\u001b[39m\u001b[38;5;241m.\u001b[39m_read_pbf()\n\u001b[1;32m    204\u001b[0m \u001b[38;5;66;03m# Filter network data with given filter\u001b[39;00m\n\u001b[0;32m--> 205\u001b[0m edges, node_gdf \u001b[38;5;241m=\u001b[39m \u001b[43mget_network_data\u001b[49m\u001b[43m(\u001b[49m\n\u001b[1;32m    206\u001b[0m \u001b[43m    \u001b[49m\u001b[38;5;28;43mself\u001b[39;49m\u001b[38;5;241;43m.\u001b[39;49m\u001b[43m_node_coordinates\u001b[49m\u001b[43m,\u001b[49m\n\u001b[1;32m    207\u001b[0m \u001b[43m    \u001b[49m\u001b[38;5;28;43mself\u001b[39;49m\u001b[38;5;241;43m.\u001b[39;49m\u001b[43m_way_records\u001b[49m\u001b[43m,\u001b[49m\n\u001b[1;32m    208\u001b[0m \u001b[43m    \u001b[49m\u001b[43mtags_as_columns\u001b[49m\u001b[43m,\u001b[49m\n\u001b[1;32m    209\u001b[0m \u001b[43m    \u001b[49m\u001b[43mnetwork_filter\u001b[49m\u001b[43m,\u001b[49m\n\u001b[1;32m    210\u001b[0m \u001b[43m    \u001b[49m\u001b[38;5;28;43mself\u001b[39;49m\u001b[38;5;241;43m.\u001b[39;49m\u001b[43mbounding_box\u001b[49m\u001b[43m,\u001b[49m\n\u001b[1;32m    211\u001b[0m \u001b[43m    \u001b[49m\u001b[43mslice_to_segments\u001b[49m\u001b[38;5;241;43m=\u001b[39;49m\u001b[43mnodes\u001b[49m\u001b[43m,\u001b[49m\n\u001b[1;32m    212\u001b[0m \u001b[43m\u001b[49m\u001b[43m)\u001b[49m\n\u001b[1;32m    214\u001b[0m \u001b[38;5;28;01mif\u001b[39;00m edges \u001b[38;5;129;01mis\u001b[39;00m \u001b[38;5;129;01mnot\u001b[39;00m \u001b[38;5;28;01mNone\u001b[39;00m:\n\u001b[1;32m    215\u001b[0m     \u001b[38;5;66;03m# Add metadata\u001b[39;00m\n\u001b[1;32m    216\u001b[0m     edges\u001b[38;5;241m.\u001b[39m_metadata\u001b[38;5;241m.\u001b[39mappend(network_type)\n",
      "File \u001b[0;32m~/Workspace/Hobbies/Programming/Hachaton/int20-ds/venv/lib/python3.10/site-packages/pyrosm/networks.py:37\u001b[0m, in \u001b[0;36mget_network_data\u001b[0;34m(node_coordinates, way_records, tags_as_columns, network_filter, bounding_box, slice_to_segments)\u001b[0m\n\u001b[1;32m     34\u001b[0m     \u001b[38;5;28;01mreturn\u001b[39;00m \u001b[38;5;28;01mNone\u001b[39;00m, \u001b[38;5;28;01mNone\u001b[39;00m\n\u001b[1;32m     36\u001b[0m \u001b[38;5;66;03m# Prepare GeoDataFrame\u001b[39;00m\n\u001b[0;32m---> 37\u001b[0m edges, nodes \u001b[38;5;241m=\u001b[39m \u001b[43mprepare_geodataframe\u001b[49m\u001b[43m(\u001b[49m\n\u001b[1;32m     38\u001b[0m \u001b[43m    \u001b[49m\u001b[43mnodes\u001b[49m\u001b[43m,\u001b[49m\n\u001b[1;32m     39\u001b[0m \u001b[43m    \u001b[49m\u001b[43mnode_coordinates\u001b[49m\u001b[43m,\u001b[49m\n\u001b[1;32m     40\u001b[0m \u001b[43m    \u001b[49m\u001b[43mways\u001b[49m\u001b[43m,\u001b[49m\n\u001b[1;32m     41\u001b[0m \u001b[43m    \u001b[49m\u001b[43mrelations\u001b[49m\u001b[43m,\u001b[49m\n\u001b[1;32m     42\u001b[0m \u001b[43m    \u001b[49m\u001b[43mrelation_ways\u001b[49m\u001b[43m,\u001b[49m\n\u001b[1;32m     43\u001b[0m \u001b[43m    \u001b[49m\u001b[43mtags_as_columns\u001b[49m\u001b[43m,\u001b[49m\n\u001b[1;32m     44\u001b[0m \u001b[43m    \u001b[49m\u001b[43mbounding_box\u001b[49m\u001b[43m,\u001b[49m\n\u001b[1;32m     45\u001b[0m \u001b[43m    \u001b[49m\u001b[43mparse_network\u001b[49m\u001b[38;5;241;43m=\u001b[39;49m\u001b[38;5;28;43;01mTrue\u001b[39;49;00m\u001b[43m,\u001b[49m\n\u001b[1;32m     46\u001b[0m \u001b[43m    \u001b[49m\u001b[43mcalculate_seg_lengths\u001b[49m\u001b[38;5;241;43m=\u001b[39;49m\u001b[43mslice_to_segments\u001b[49m\u001b[43m,\u001b[49m\n\u001b[1;32m     47\u001b[0m \u001b[43m\u001b[49m\u001b[43m)\u001b[49m\n\u001b[1;32m     49\u001b[0m \u001b[38;5;28;01mreturn\u001b[39;00m edges, nodes\n",
      "File \u001b[0;32m~/Workspace/Hobbies/Programming/Hachaton/int20-ds/venv/lib/python3.10/site-packages/pyrosm/frames.pyx:134\u001b[0m, in \u001b[0;36mpyrosm.frames.prepare_geodataframe\u001b[0;34m()\u001b[0m\n",
      "File \u001b[0;32m~/Workspace/Hobbies/Programming/Hachaton/int20-ds/venv/lib/python3.10/site-packages/pyrosm/frames.pyx:141\u001b[0m, in \u001b[0;36mpyrosm.frames.prepare_geodataframe\u001b[0;34m()\u001b[0m\n",
      "File \u001b[0;32m~/Workspace/Hobbies/Programming/Hachaton/int20-ds/venv/lib/python3.10/site-packages/pyrosm/frames.pyx:54\u001b[0m, in \u001b[0;36mpyrosm.frames.prepare_way_gdf\u001b[0;34m()\u001b[0m\n",
      "File \u001b[0;32m~/Workspace/Hobbies/Programming/Hachaton/int20-ds/venv/lib/python3.10/site-packages/pyrosm/geometry.pyx:431\u001b[0m, in \u001b[0;36mpyrosm.geometry.create_way_geometries\u001b[0;34m()\u001b[0m\n",
      "File \u001b[0;32m~/Workspace/Hobbies/Programming/Hachaton/int20-ds/venv/lib/python3.10/site-packages/pyrosm/geometry.pyx:405\u001b[0m, in \u001b[0;36mpyrosm.geometry._create_way_geometries\u001b[0;34m()\u001b[0m\n",
      "File \u001b[0;32m~/Workspace/Hobbies/Programming/Hachaton/int20-ds/venv/lib/python3.10/site-packages/pyrosm/geometry.pyx:330\u001b[0m, in \u001b[0;36mpyrosm.geometry.create_linestring_geometry\u001b[0;34m()\u001b[0m\n",
      "File \u001b[0;32m~/Workspace/Hobbies/Programming/Hachaton/int20-ds/venv/lib/python3.10/site-packages/pyrosm/geometry.pyx:312\u001b[0m, in \u001b[0;36mpyrosm.geometry.create_linestring_geometry\u001b[0;34m()\u001b[0m\n",
      "File \u001b[0;32m~/Workspace/Hobbies/Programming/Hachaton/int20-ds/venv/lib/python3.10/site-packages/numpy/__init__.py:284\u001b[0m, in \u001b[0;36m__getattr__\u001b[0;34m(attr)\u001b[0m\n\u001b[1;32m    281\u001b[0m     \u001b[38;5;28;01mfrom\u001b[39;00m \u001b[38;5;21;01m.\u001b[39;00m\u001b[38;5;21;01mtesting\u001b[39;00m \u001b[38;5;28;01mimport\u001b[39;00m Tester\n\u001b[1;32m    282\u001b[0m     \u001b[38;5;28;01mreturn\u001b[39;00m Tester\n\u001b[0;32m--> 284\u001b[0m \u001b[38;5;28;01mraise\u001b[39;00m \u001b[38;5;167;01mAttributeError\u001b[39;00m(\u001b[38;5;124m\"\u001b[39m\u001b[38;5;124mmodule \u001b[39m\u001b[38;5;132;01m{!r}\u001b[39;00m\u001b[38;5;124m has no attribute \u001b[39m\u001b[38;5;124m\"\u001b[39m\n\u001b[1;32m    285\u001b[0m                      \u001b[38;5;124m\"\u001b[39m\u001b[38;5;132;01m{!r}\u001b[39;00m\u001b[38;5;124m\"\u001b[39m\u001b[38;5;241m.\u001b[39mformat(\u001b[38;5;18m__name__\u001b[39m, attr))\n",
      "\u001b[0;31mAttributeError\u001b[0m: module 'numpy' has no attribute 'float'"
     ]
    }
   ],
   "source": [
    "nodes_net, drive_net = osm.get_network(nodes=True, network_type=\"driving\")\n",
    "print(nodes_net.shape)\n",
    "print(drive_net.shape)"
   ]
  },
  {
   "cell_type": "code",
   "execution_count": null,
   "id": "b926b15c-cf33-4734-8b7b-05d2a241e8fa",
   "metadata": {},
   "outputs": [],
   "source": [
    "drive_net.plot()"
   ]
  },
  {
   "cell_type": "code",
   "execution_count": null,
   "id": "71437e00-96f9-49dc-a6b2-c7af7e9f1746",
   "metadata": {},
   "outputs": [],
   "source": [
    "nodes_net.plot()"
   ]
  },
  {
   "cell_type": "code",
   "execution_count": null,
   "id": "278fd3ea-37df-4462-9aee-acaa92f237b7",
   "metadata": {},
   "outputs": [],
   "source": [
    "nodes_df = pd.read_csv('datasets/nodes.csv')\n",
    "nodes_df"
   ]
  },
  {
   "cell_type": "code",
   "execution_count": null,
   "id": "2ceaea10-1d8a-4863-8ed9-dd70a6079fdc",
   "metadata": {},
   "outputs": [],
   "source": [
    "nodes_net"
   ]
  },
  {
   "cell_type": "code",
   "execution_count": null,
   "id": "ad47669c-07dc-4c18-a202-40a408f58c41",
   "metadata": {},
   "outputs": [],
   "source": [
    "nodes_df = nodes_df.merge(nodes_net, left_on=['node_start'], right_on=['id'])\n",
    "nodes_df = nodes_df.merge(nodes_net, left_on=['node_start'], right_on=['id'], suffixes=('_start' ,'_end'))\n",
    "\n",
    "nodes_df"
   ]
  },
  {
   "cell_type": "code",
   "execution_count": null,
   "id": "ddfc5d8a-0726-4182-b50f-126d84b93bed",
   "metadata": {},
   "outputs": [],
   "source": [
    "nodes_df.columns"
   ]
  },
  {
   "cell_type": "code",
   "execution_count": null,
   "id": "014ce384-5dea-44b5-8b5f-9b365056d8f3",
   "metadata": {},
   "outputs": [],
   "source": [
    "nodes_df = nodes_df.drop(columns=['timestamp_start', 'timestamp_end', 'version_start', 'version_end', 'changeset_start', 'changeset_end', 'id_start', 'id_end', 'geometry_end', 'geometry_start'])"
   ]
  },
  {
   "cell_type": "code",
   "execution_count": null,
   "id": "49c74e07-4f28-4c77-a536-364dd09b9e7b",
   "metadata": {},
   "outputs": [],
   "source": [
    "nodes_df.columns"
   ]
  },
  {
   "cell_type": "code",
   "execution_count": null,
   "id": "ac663f42-6d49-475c-aa0a-4b6736382526",
   "metadata": {},
   "outputs": [],
   "source": [
    "nodes_df.to_csv('datasets/geolocation.csv')"
   ]
  },
  {
   "cell_type": "code",
   "execution_count": null,
   "id": "a8687ef5-f2a1-493d-af01-246e9997e481",
   "metadata": {},
   "outputs": [],
   "source": [
    "nodes_df.size"
   ]
  }
 ],
 "metadata": {
  "kernelspec": {
   "display_name": "venv",
   "language": "python",
   "name": "venv"
  },
  "language_info": {
   "codemirror_mode": {
    "name": "ipython",
    "version": 3
   },
   "file_extension": ".py",
   "mimetype": "text/x-python",
   "name": "python",
   "nbconvert_exporter": "python",
   "pygments_lexer": "ipython3",
   "version": "3.10.9"
  }
 },
 "nbformat": 4,
 "nbformat_minor": 5
}
