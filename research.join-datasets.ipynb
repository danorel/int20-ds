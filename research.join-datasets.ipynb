{
 "cells": [
  {
   "cell_type": "code",
   "execution_count": 1,
   "id": "da4e6046",
   "metadata": {},
   "outputs": [],
   "source": [
    "import pandas as pd"
   ]
  },
  {
   "cell_type": "code",
   "execution_count": 2,
   "id": "6b10d749",
   "metadata": {},
   "outputs": [],
   "source": [
    "orders_df = pd.read_csv(\"datasets/orders.csv\")\n",
    "nodes_df = pd.read_csv(\"datasets/nodes.csv\")\n",
    "geolocation_df = pd.read_csv(\"datasets/geolocation.csv\")\n",
    "weather_df = pd.read_json(\"datasets/weather.json\")"
   ]
  },
  {
   "cell_type": "markdown",
   "id": "02f9a246",
   "metadata": {},
   "source": [
    "### Orders info"
   ]
  },
  {
   "cell_type": "code",
   "execution_count": 3,
   "id": "f7701707",
   "metadata": {},
   "outputs": [
    {
     "data": {
      "text/plain": [
       "(5000, 5)"
      ]
     },
     "execution_count": 3,
     "metadata": {},
     "output_type": "execute_result"
    }
   ],
   "source": [
    "orders_df.shape"
   ]
  },
  {
   "cell_type": "code",
   "execution_count": 4,
   "id": "c866c63d",
   "metadata": {},
   "outputs": [
    {
     "data": {
      "text/plain": [
       "Id                     int64\n",
       "running_time          object\n",
       "completed_time        object\n",
       "route_distance_km    float64\n",
       "delta_time           float64\n",
       "dtype: object"
      ]
     },
     "execution_count": 4,
     "metadata": {},
     "output_type": "execute_result"
    }
   ],
   "source": [
    "orders_df.dtypes"
   ]
  },
  {
   "cell_type": "code",
   "execution_count": 5,
   "id": "a4af4bb7",
   "metadata": {},
   "outputs": [
    {
     "data": {
      "text/html": [
       "<div>\n",
       "<style scoped>\n",
       "    .dataframe tbody tr th:only-of-type {\n",
       "        vertical-align: middle;\n",
       "    }\n",
       "\n",
       "    .dataframe tbody tr th {\n",
       "        vertical-align: top;\n",
       "    }\n",
       "\n",
       "    .dataframe thead th {\n",
       "        text-align: right;\n",
       "    }\n",
       "</style>\n",
       "<table border=\"1\" class=\"dataframe\">\n",
       "  <thead>\n",
       "    <tr style=\"text-align: right;\">\n",
       "      <th></th>\n",
       "      <th>Id</th>\n",
       "      <th>route_distance_km</th>\n",
       "      <th>delta_time</th>\n",
       "    </tr>\n",
       "  </thead>\n",
       "  <tbody>\n",
       "    <tr>\n",
       "      <th>count</th>\n",
       "      <td>5.000000e+03</td>\n",
       "      <td>5000.000000</td>\n",
       "      <td>5000.000000</td>\n",
       "    </tr>\n",
       "    <tr>\n",
       "      <th>mean</th>\n",
       "      <td>1.437166e+17</td>\n",
       "      <td>3.705945</td>\n",
       "      <td>613.161600</td>\n",
       "    </tr>\n",
       "    <tr>\n",
       "      <th>std</th>\n",
       "      <td>5.322209e+18</td>\n",
       "      <td>1.767206</td>\n",
       "      <td>213.802608</td>\n",
       "    </tr>\n",
       "    <tr>\n",
       "      <th>min</th>\n",
       "      <td>-9.220688e+18</td>\n",
       "      <td>0.000000</td>\n",
       "      <td>50.000000</td>\n",
       "    </tr>\n",
       "    <tr>\n",
       "      <th>25%</th>\n",
       "      <td>-4.422074e+18</td>\n",
       "      <td>2.359750</td>\n",
       "      <td>441.000000</td>\n",
       "    </tr>\n",
       "    <tr>\n",
       "      <th>50%</th>\n",
       "      <td>1.826612e+17</td>\n",
       "      <td>3.394000</td>\n",
       "      <td>614.000000</td>\n",
       "    </tr>\n",
       "    <tr>\n",
       "      <th>75%</th>\n",
       "      <td>4.817401e+18</td>\n",
       "      <td>4.753250</td>\n",
       "      <td>788.000000</td>\n",
       "    </tr>\n",
       "    <tr>\n",
       "      <th>max</th>\n",
       "      <td>9.222287e+18</td>\n",
       "      <td>15.954000</td>\n",
       "      <td>999.000000</td>\n",
       "    </tr>\n",
       "  </tbody>\n",
       "</table>\n",
       "</div>"
      ],
      "text/plain": [
       "                 Id  route_distance_km   delta_time\n",
       "count  5.000000e+03        5000.000000  5000.000000\n",
       "mean   1.437166e+17           3.705945   613.161600\n",
       "std    5.322209e+18           1.767206   213.802608\n",
       "min   -9.220688e+18           0.000000    50.000000\n",
       "25%   -4.422074e+18           2.359750   441.000000\n",
       "50%    1.826612e+17           3.394000   614.000000\n",
       "75%    4.817401e+18           4.753250   788.000000\n",
       "max    9.222287e+18          15.954000   999.000000"
      ]
     },
     "execution_count": 5,
     "metadata": {},
     "output_type": "execute_result"
    }
   ],
   "source": [
    "orders_df.describe()"
   ]
  },
  {
   "cell_type": "code",
   "execution_count": 6,
   "id": "766686aa",
   "metadata": {},
   "outputs": [
    {
     "data": {
      "text/html": [
       "<div>\n",
       "<style scoped>\n",
       "    .dataframe tbody tr th:only-of-type {\n",
       "        vertical-align: middle;\n",
       "    }\n",
       "\n",
       "    .dataframe tbody tr th {\n",
       "        vertical-align: top;\n",
       "    }\n",
       "\n",
       "    .dataframe thead th {\n",
       "        text-align: right;\n",
       "    }\n",
       "</style>\n",
       "<table border=\"1\" class=\"dataframe\">\n",
       "  <thead>\n",
       "    <tr style=\"text-align: right;\">\n",
       "      <th></th>\n",
       "      <th>Id</th>\n",
       "      <th>running_time</th>\n",
       "      <th>completed_time</th>\n",
       "      <th>route_distance_km</th>\n",
       "      <th>delta_time</th>\n",
       "    </tr>\n",
       "  </thead>\n",
       "  <tbody>\n",
       "    <tr>\n",
       "      <th>0</th>\n",
       "      <td>-4773019581999572651</td>\n",
       "      <td>2022-01-24 18:30:21</td>\n",
       "      <td>2022-01-24 18:44:43</td>\n",
       "      <td>3.740</td>\n",
       "      <td>862.0</td>\n",
       "    </tr>\n",
       "    <tr>\n",
       "      <th>1</th>\n",
       "      <td>-7575630690398473489</td>\n",
       "      <td>2022-01-24 06:53:53</td>\n",
       "      <td>2022-01-24 07:06:26</td>\n",
       "      <td>3.526</td>\n",
       "      <td>753.0</td>\n",
       "    </tr>\n",
       "    <tr>\n",
       "      <th>2</th>\n",
       "      <td>-6264582368520213833</td>\n",
       "      <td>2022-01-24 10:00:59</td>\n",
       "      <td>2022-01-24 10:15:58</td>\n",
       "      <td>5.071</td>\n",
       "      <td>899.0</td>\n",
       "    </tr>\n",
       "    <tr>\n",
       "      <th>3</th>\n",
       "      <td>5964315354301636538</td>\n",
       "      <td>2022-01-24 14:28:05</td>\n",
       "      <td>2022-01-24 14:35:08</td>\n",
       "      <td>2.867</td>\n",
       "      <td>423.0</td>\n",
       "    </tr>\n",
       "    <tr>\n",
       "      <th>4</th>\n",
       "      <td>1372379574816145639</td>\n",
       "      <td>2022-01-24 11:57:29</td>\n",
       "      <td>2022-01-24 12:06:29</td>\n",
       "      <td>3.751</td>\n",
       "      <td>540.0</td>\n",
       "    </tr>\n",
       "  </tbody>\n",
       "</table>\n",
       "</div>"
      ],
      "text/plain": [
       "                    Id         running_time       completed_time  \\\n",
       "0 -4773019581999572651  2022-01-24 18:30:21  2022-01-24 18:44:43   \n",
       "1 -7575630690398473489  2022-01-24 06:53:53  2022-01-24 07:06:26   \n",
       "2 -6264582368520213833  2022-01-24 10:00:59  2022-01-24 10:15:58   \n",
       "3  5964315354301636538  2022-01-24 14:28:05  2022-01-24 14:35:08   \n",
       "4  1372379574816145639  2022-01-24 11:57:29  2022-01-24 12:06:29   \n",
       "\n",
       "   route_distance_km  delta_time  \n",
       "0              3.740       862.0  \n",
       "1              3.526       753.0  \n",
       "2              5.071       899.0  \n",
       "3              2.867       423.0  \n",
       "4              3.751       540.0  "
      ]
     },
     "execution_count": 6,
     "metadata": {},
     "output_type": "execute_result"
    }
   ],
   "source": [
    "orders_df.head()"
   ]
  },
  {
   "cell_type": "markdown",
   "id": "d6c38e3d",
   "metadata": {},
   "source": [
    "### Nodes info"
   ]
  },
  {
   "cell_type": "code",
   "execution_count": 7,
   "id": "f497c7a0",
   "metadata": {},
   "outputs": [
    {
     "data": {
      "text/plain": [
       "(480291, 5)"
      ]
     },
     "execution_count": 7,
     "metadata": {},
     "output_type": "execute_result"
    }
   ],
   "source": [
    "nodes_df.shape"
   ]
  },
  {
   "cell_type": "code",
   "execution_count": 8,
   "id": "762571b7",
   "metadata": {},
   "outputs": [
    {
     "data": {
      "text/plain": [
       "Id               int64\n",
       "node_start       int64\n",
       "node_finish      int64\n",
       "distance       float64\n",
       "speed          float64\n",
       "dtype: object"
      ]
     },
     "execution_count": 8,
     "metadata": {},
     "output_type": "execute_result"
    }
   ],
   "source": [
    "nodes_df.dtypes"
   ]
  },
  {
   "cell_type": "code",
   "execution_count": 9,
   "id": "ea66c97d",
   "metadata": {},
   "outputs": [
    {
     "data": {
      "text/html": [
       "<div>\n",
       "<style scoped>\n",
       "    .dataframe tbody tr th:only-of-type {\n",
       "        vertical-align: middle;\n",
       "    }\n",
       "\n",
       "    .dataframe tbody tr th {\n",
       "        vertical-align: top;\n",
       "    }\n",
       "\n",
       "    .dataframe thead th {\n",
       "        text-align: right;\n",
       "    }\n",
       "</style>\n",
       "<table border=\"1\" class=\"dataframe\">\n",
       "  <thead>\n",
       "    <tr style=\"text-align: right;\">\n",
       "      <th></th>\n",
       "      <th>Id</th>\n",
       "      <th>node_start</th>\n",
       "      <th>node_finish</th>\n",
       "      <th>distance</th>\n",
       "      <th>speed</th>\n",
       "    </tr>\n",
       "  </thead>\n",
       "  <tbody>\n",
       "    <tr>\n",
       "      <th>count</th>\n",
       "      <td>4.802910e+05</td>\n",
       "      <td>4.802910e+05</td>\n",
       "      <td>4.802910e+05</td>\n",
       "      <td>480291.000000</td>\n",
       "      <td>476307.000000</td>\n",
       "    </tr>\n",
       "    <tr>\n",
       "      <th>mean</th>\n",
       "      <td>1.325593e+17</td>\n",
       "      <td>3.831874e+09</td>\n",
       "      <td>3.831719e+09</td>\n",
       "      <td>37.992984</td>\n",
       "      <td>31.293073</td>\n",
       "    </tr>\n",
       "    <tr>\n",
       "      <th>std</th>\n",
       "      <td>5.329873e+18</td>\n",
       "      <td>2.702820e+09</td>\n",
       "      <td>2.702986e+09</td>\n",
       "      <td>43.718081</td>\n",
       "      <td>10.131391</td>\n",
       "    </tr>\n",
       "    <tr>\n",
       "      <th>min</th>\n",
       "      <td>-9.221524e+18</td>\n",
       "      <td>1.098042e+07</td>\n",
       "      <td>1.098042e+07</td>\n",
       "      <td>0.076575</td>\n",
       "      <td>5.000000</td>\n",
       "    </tr>\n",
       "    <tr>\n",
       "      <th>25%</th>\n",
       "      <td>-4.399445e+18</td>\n",
       "      <td>1.570777e+09</td>\n",
       "      <td>1.570777e+09</td>\n",
       "      <td>9.548104</td>\n",
       "      <td>24.000000</td>\n",
       "    </tr>\n",
       "    <tr>\n",
       "      <th>50%</th>\n",
       "      <td>1.556848e+17</td>\n",
       "      <td>4.439628e+09</td>\n",
       "      <td>4.439628e+09</td>\n",
       "      <td>22.237880</td>\n",
       "      <td>30.000000</td>\n",
       "    </tr>\n",
       "    <tr>\n",
       "      <th>75%</th>\n",
       "      <td>4.817189e+18</td>\n",
       "      <td>5.214945e+09</td>\n",
       "      <td>5.215058e+09</td>\n",
       "      <td>50.181445</td>\n",
       "      <td>37.000000</td>\n",
       "    </tr>\n",
       "    <tr>\n",
       "      <th>max</th>\n",
       "      <td>9.222287e+18</td>\n",
       "      <td>8.952487e+09</td>\n",
       "      <td>8.952487e+09</td>\n",
       "      <td>1374.510868</td>\n",
       "      <td>100.000000</td>\n",
       "    </tr>\n",
       "  </tbody>\n",
       "</table>\n",
       "</div>"
      ],
      "text/plain": [
       "                 Id    node_start   node_finish       distance          speed\n",
       "count  4.802910e+05  4.802910e+05  4.802910e+05  480291.000000  476307.000000\n",
       "mean   1.325593e+17  3.831874e+09  3.831719e+09      37.992984      31.293073\n",
       "std    5.329873e+18  2.702820e+09  2.702986e+09      43.718081      10.131391\n",
       "min   -9.221524e+18  1.098042e+07  1.098042e+07       0.076575       5.000000\n",
       "25%   -4.399445e+18  1.570777e+09  1.570777e+09       9.548104      24.000000\n",
       "50%    1.556848e+17  4.439628e+09  4.439628e+09      22.237880      30.000000\n",
       "75%    4.817189e+18  5.214945e+09  5.215058e+09      50.181445      37.000000\n",
       "max    9.222287e+18  8.952487e+09  8.952487e+09    1374.510868     100.000000"
      ]
     },
     "execution_count": 9,
     "metadata": {},
     "output_type": "execute_result"
    }
   ],
   "source": [
    "nodes_df.describe()"
   ]
  },
  {
   "cell_type": "code",
   "execution_count": 10,
   "id": "5ef73f38",
   "metadata": {},
   "outputs": [
    {
     "data": {
      "text/html": [
       "<div>\n",
       "<style scoped>\n",
       "    .dataframe tbody tr th:only-of-type {\n",
       "        vertical-align: middle;\n",
       "    }\n",
       "\n",
       "    .dataframe tbody tr th {\n",
       "        vertical-align: top;\n",
       "    }\n",
       "\n",
       "    .dataframe thead th {\n",
       "        text-align: right;\n",
       "    }\n",
       "</style>\n",
       "<table border=\"1\" class=\"dataframe\">\n",
       "  <thead>\n",
       "    <tr style=\"text-align: right;\">\n",
       "      <th></th>\n",
       "      <th>Id</th>\n",
       "      <th>node_start</th>\n",
       "      <th>node_finish</th>\n",
       "      <th>distance</th>\n",
       "      <th>speed</th>\n",
       "    </tr>\n",
       "  </thead>\n",
       "  <tbody>\n",
       "    <tr>\n",
       "      <th>0</th>\n",
       "      <td>-2627062893189810184</td>\n",
       "      <td>10980432</td>\n",
       "      <td>2133368107</td>\n",
       "      <td>17.414917</td>\n",
       "      <td>32.0</td>\n",
       "    </tr>\n",
       "    <tr>\n",
       "      <th>1</th>\n",
       "      <td>-2627062893189810184</td>\n",
       "      <td>10980433</td>\n",
       "      <td>5212387954</td>\n",
       "      <td>17.186539</td>\n",
       "      <td>26.0</td>\n",
       "    </tr>\n",
       "    <tr>\n",
       "      <th>2</th>\n",
       "      <td>-2627062893189810184</td>\n",
       "      <td>10980445</td>\n",
       "      <td>5221700954</td>\n",
       "      <td>28.513481</td>\n",
       "      <td>26.0</td>\n",
       "    </tr>\n",
       "    <tr>\n",
       "      <th>3</th>\n",
       "      <td>-2627062893189810184</td>\n",
       "      <td>10980498</td>\n",
       "      <td>10980445</td>\n",
       "      <td>154.266122</td>\n",
       "      <td>25.0</td>\n",
       "    </tr>\n",
       "    <tr>\n",
       "      <th>4</th>\n",
       "      <td>-2627062893189810184</td>\n",
       "      <td>10980647</td>\n",
       "      <td>1986137911</td>\n",
       "      <td>8.542824</td>\n",
       "      <td>29.0</td>\n",
       "    </tr>\n",
       "  </tbody>\n",
       "</table>\n",
       "</div>"
      ],
      "text/plain": [
       "                    Id  node_start  node_finish    distance  speed\n",
       "0 -2627062893189810184    10980432   2133368107   17.414917   32.0\n",
       "1 -2627062893189810184    10980433   5212387954   17.186539   26.0\n",
       "2 -2627062893189810184    10980445   5221700954   28.513481   26.0\n",
       "3 -2627062893189810184    10980498     10980445  154.266122   25.0\n",
       "4 -2627062893189810184    10980647   1986137911    8.542824   29.0"
      ]
     },
     "execution_count": 10,
     "metadata": {},
     "output_type": "execute_result"
    }
   ],
   "source": [
    "nodes_df.head()"
   ]
  },
  {
   "cell_type": "markdown",
   "id": "6fbfb9ee",
   "metadata": {},
   "source": [
    "### Weather info"
   ]
  },
  {
   "cell_type": "code",
   "execution_count": 11,
   "id": "7cf2a58d",
   "metadata": {},
   "outputs": [
    {
     "data": {
      "text/plain": [
       "(3, 1)"
      ]
     },
     "execution_count": 11,
     "metadata": {},
     "output_type": "execute_result"
    }
   ],
   "source": [
    "weather_df.shape"
   ]
  },
  {
   "cell_type": "code",
   "execution_count": 12,
   "id": "c81fafc3",
   "metadata": {
    "scrolled": true
   },
   "outputs": [
    {
     "data": {
      "text/html": [
       "<div>\n",
       "<style scoped>\n",
       "    .dataframe tbody tr th:only-of-type {\n",
       "        vertical-align: middle;\n",
       "    }\n",
       "\n",
       "    .dataframe tbody tr th {\n",
       "        vertical-align: top;\n",
       "    }\n",
       "\n",
       "    .dataframe thead th {\n",
       "        text-align: right;\n",
       "    }\n",
       "</style>\n",
       "<table border=\"1\" class=\"dataframe\">\n",
       "  <thead>\n",
       "    <tr style=\"text-align: right;\">\n",
       "      <th></th>\n",
       "      <th>data</th>\n",
       "    </tr>\n",
       "  </thead>\n",
       "  <tbody>\n",
       "    <tr>\n",
       "      <th>nearest_area</th>\n",
       "      <td>[{'areaName': [{'value': 'Odessa'}], 'country'...</td>\n",
       "    </tr>\n",
       "    <tr>\n",
       "      <th>request</th>\n",
       "      <td>[{'type': 'City', 'query': 'Odessa, Ukraine'}]</td>\n",
       "    </tr>\n",
       "    <tr>\n",
       "      <th>weather</th>\n",
       "      <td>[{'date': '2022-01-24', 'astronomy': [{'sunris...</td>\n",
       "    </tr>\n",
       "  </tbody>\n",
       "</table>\n",
       "</div>"
      ],
      "text/plain": [
       "                                                           data\n",
       "nearest_area  [{'areaName': [{'value': 'Odessa'}], 'country'...\n",
       "request          [{'type': 'City', 'query': 'Odessa, Ukraine'}]\n",
       "weather       [{'date': '2022-01-24', 'astronomy': [{'sunris..."
      ]
     },
     "execution_count": 12,
     "metadata": {},
     "output_type": "execute_result"
    }
   ],
   "source": [
    "weather_df.head()"
   ]
  },
  {
   "cell_type": "markdown",
   "id": "8c3b8662",
   "metadata": {},
   "source": [
    "### Geolocation"
   ]
  },
  {
   "cell_type": "code",
   "execution_count": 13,
   "id": "b72866e5",
   "metadata": {},
   "outputs": [
    {
     "data": {
      "text/html": [
       "<div>\n",
       "<style scoped>\n",
       "    .dataframe tbody tr th:only-of-type {\n",
       "        vertical-align: middle;\n",
       "    }\n",
       "\n",
       "    .dataframe tbody tr th {\n",
       "        vertical-align: top;\n",
       "    }\n",
       "\n",
       "    .dataframe thead th {\n",
       "        text-align: right;\n",
       "    }\n",
       "</style>\n",
       "<table border=\"1\" class=\"dataframe\">\n",
       "  <thead>\n",
       "    <tr style=\"text-align: right;\">\n",
       "      <th></th>\n",
       "      <th>Unnamed: 0</th>\n",
       "      <th>Id</th>\n",
       "      <th>node_start</th>\n",
       "      <th>node_finish</th>\n",
       "      <th>distance</th>\n",
       "      <th>speed</th>\n",
       "      <th>lon_start</th>\n",
       "      <th>lat_start</th>\n",
       "      <th>tags_start</th>\n",
       "      <th>lon_end</th>\n",
       "      <th>lat_end</th>\n",
       "      <th>tags_end</th>\n",
       "    </tr>\n",
       "  </thead>\n",
       "  <tbody>\n",
       "    <tr>\n",
       "      <th>0</th>\n",
       "      <td>0</td>\n",
       "      <td>1403210517021349791</td>\n",
       "      <td>290773715</td>\n",
       "      <td>2041636852</td>\n",
       "      <td>64.755864</td>\n",
       "      <td>36.0</td>\n",
       "      <td>30.724242</td>\n",
       "      <td>46.438158</td>\n",
       "      <td>NaN</td>\n",
       "      <td>30.724242</td>\n",
       "      <td>46.438158</td>\n",
       "      <td>NaN</td>\n",
       "    </tr>\n",
       "    <tr>\n",
       "      <th>1</th>\n",
       "      <td>1</td>\n",
       "      <td>-6121885842330106250</td>\n",
       "      <td>290773715</td>\n",
       "      <td>2041636852</td>\n",
       "      <td>64.755799</td>\n",
       "      <td>36.0</td>\n",
       "      <td>30.724242</td>\n",
       "      <td>46.438158</td>\n",
       "      <td>NaN</td>\n",
       "      <td>30.724242</td>\n",
       "      <td>46.438158</td>\n",
       "      <td>NaN</td>\n",
       "    </tr>\n",
       "    <tr>\n",
       "      <th>2</th>\n",
       "      <td>2</td>\n",
       "      <td>1360686813931198539</td>\n",
       "      <td>290773715</td>\n",
       "      <td>2041636852</td>\n",
       "      <td>64.755867</td>\n",
       "      <td>41.0</td>\n",
       "      <td>30.724242</td>\n",
       "      <td>46.438158</td>\n",
       "      <td>NaN</td>\n",
       "      <td>30.724242</td>\n",
       "      <td>46.438158</td>\n",
       "      <td>NaN</td>\n",
       "    </tr>\n",
       "    <tr>\n",
       "      <th>3</th>\n",
       "      <td>3</td>\n",
       "      <td>-6585029545990233408</td>\n",
       "      <td>290773715</td>\n",
       "      <td>2041636852</td>\n",
       "      <td>64.755776</td>\n",
       "      <td>46.0</td>\n",
       "      <td>30.724242</td>\n",
       "      <td>46.438158</td>\n",
       "      <td>NaN</td>\n",
       "      <td>30.724242</td>\n",
       "      <td>46.438158</td>\n",
       "      <td>NaN</td>\n",
       "    </tr>\n",
       "    <tr>\n",
       "      <th>4</th>\n",
       "      <td>4</td>\n",
       "      <td>-7417366892351501483</td>\n",
       "      <td>290773715</td>\n",
       "      <td>2041636852</td>\n",
       "      <td>64.755791</td>\n",
       "      <td>51.0</td>\n",
       "      <td>30.724242</td>\n",
       "      <td>46.438158</td>\n",
       "      <td>NaN</td>\n",
       "      <td>30.724242</td>\n",
       "      <td>46.438158</td>\n",
       "      <td>NaN</td>\n",
       "    </tr>\n",
       "  </tbody>\n",
       "</table>\n",
       "</div>"
      ],
      "text/plain": [
       "   Unnamed: 0                   Id  node_start  node_finish   distance  speed  \\\n",
       "0           0  1403210517021349791   290773715   2041636852  64.755864   36.0   \n",
       "1           1 -6121885842330106250   290773715   2041636852  64.755799   36.0   \n",
       "2           2  1360686813931198539   290773715   2041636852  64.755867   41.0   \n",
       "3           3 -6585029545990233408   290773715   2041636852  64.755776   46.0   \n",
       "4           4 -7417366892351501483   290773715   2041636852  64.755791   51.0   \n",
       "\n",
       "   lon_start  lat_start tags_start    lon_end    lat_end tags_end  \n",
       "0  30.724242  46.438158        NaN  30.724242  46.438158      NaN  \n",
       "1  30.724242  46.438158        NaN  30.724242  46.438158      NaN  \n",
       "2  30.724242  46.438158        NaN  30.724242  46.438158      NaN  \n",
       "3  30.724242  46.438158        NaN  30.724242  46.438158      NaN  \n",
       "4  30.724242  46.438158        NaN  30.724242  46.438158      NaN  "
      ]
     },
     "execution_count": 13,
     "metadata": {},
     "output_type": "execute_result"
    }
   ],
   "source": [
    "geolocation_df.head()"
   ]
  },
  {
   "cell_type": "code",
   "execution_count": 14,
   "id": "47a9ac17",
   "metadata": {},
   "outputs": [],
   "source": [
    "geolocation_df = geolocation_df[[\"Id\", \"lon_start\", \"lat_start\", \"lon_end\", \"lat_end\"]]"
   ]
  },
  {
   "cell_type": "code",
   "execution_count": 15,
   "id": "1d7034c9",
   "metadata": {
    "scrolled": true
   },
   "outputs": [
    {
     "data": {
      "text/plain": [
       "(428737, 5)"
      ]
     },
     "execution_count": 15,
     "metadata": {},
     "output_type": "execute_result"
    }
   ],
   "source": [
    "geolocation_df.shape"
   ]
  },
  {
   "cell_type": "code",
   "execution_count": 16,
   "id": "c1cf8779",
   "metadata": {},
   "outputs": [
    {
     "data": {
      "text/html": [
       "<div>\n",
       "<style scoped>\n",
       "    .dataframe tbody tr th:only-of-type {\n",
       "        vertical-align: middle;\n",
       "    }\n",
       "\n",
       "    .dataframe tbody tr th {\n",
       "        vertical-align: top;\n",
       "    }\n",
       "\n",
       "    .dataframe thead th {\n",
       "        text-align: right;\n",
       "    }\n",
       "</style>\n",
       "<table border=\"1\" class=\"dataframe\">\n",
       "  <thead>\n",
       "    <tr style=\"text-align: right;\">\n",
       "      <th></th>\n",
       "      <th>Id</th>\n",
       "      <th>lon_start</th>\n",
       "      <th>lat_start</th>\n",
       "      <th>lon_end</th>\n",
       "      <th>lat_end</th>\n",
       "    </tr>\n",
       "  </thead>\n",
       "  <tbody>\n",
       "    <tr>\n",
       "      <th>0</th>\n",
       "      <td>1403210517021349791</td>\n",
       "      <td>30.724242</td>\n",
       "      <td>46.438158</td>\n",
       "      <td>30.724242</td>\n",
       "      <td>46.438158</td>\n",
       "    </tr>\n",
       "    <tr>\n",
       "      <th>1</th>\n",
       "      <td>-6121885842330106250</td>\n",
       "      <td>30.724242</td>\n",
       "      <td>46.438158</td>\n",
       "      <td>30.724242</td>\n",
       "      <td>46.438158</td>\n",
       "    </tr>\n",
       "    <tr>\n",
       "      <th>2</th>\n",
       "      <td>1360686813931198539</td>\n",
       "      <td>30.724242</td>\n",
       "      <td>46.438158</td>\n",
       "      <td>30.724242</td>\n",
       "      <td>46.438158</td>\n",
       "    </tr>\n",
       "    <tr>\n",
       "      <th>3</th>\n",
       "      <td>-6585029545990233408</td>\n",
       "      <td>30.724242</td>\n",
       "      <td>46.438158</td>\n",
       "      <td>30.724242</td>\n",
       "      <td>46.438158</td>\n",
       "    </tr>\n",
       "    <tr>\n",
       "      <th>4</th>\n",
       "      <td>-7417366892351501483</td>\n",
       "      <td>30.724242</td>\n",
       "      <td>46.438158</td>\n",
       "      <td>30.724242</td>\n",
       "      <td>46.438158</td>\n",
       "    </tr>\n",
       "  </tbody>\n",
       "</table>\n",
       "</div>"
      ],
      "text/plain": [
       "                    Id  lon_start  lat_start    lon_end    lat_end\n",
       "0  1403210517021349791  30.724242  46.438158  30.724242  46.438158\n",
       "1 -6121885842330106250  30.724242  46.438158  30.724242  46.438158\n",
       "2  1360686813931198539  30.724242  46.438158  30.724242  46.438158\n",
       "3 -6585029545990233408  30.724242  46.438158  30.724242  46.438158\n",
       "4 -7417366892351501483  30.724242  46.438158  30.724242  46.438158"
      ]
     },
     "execution_count": 16,
     "metadata": {},
     "output_type": "execute_result"
    }
   ],
   "source": [
    "geolocation_df.head()"
   ]
  },
  {
   "cell_type": "markdown",
   "id": "fb0cabdc",
   "metadata": {},
   "source": [
    "### Preprocessing\n",
    "\n",
    "1. Finding average speed during the running time"
   ]
  },
  {
   "cell_type": "code",
   "execution_count": 17,
   "id": "09523070",
   "metadata": {},
   "outputs": [],
   "source": [
    "speed_mean_df = nodes_df.groupby([\"Id\"], as_index=False).agg(**{\"average_speed\": (\"speed\", \"mean\")})"
   ]
  },
  {
   "cell_type": "code",
   "execution_count": 18,
   "id": "ee65ce06",
   "metadata": {},
   "outputs": [
    {
     "data": {
      "text/plain": [
       "(6000, 2)"
      ]
     },
     "execution_count": 18,
     "metadata": {},
     "output_type": "execute_result"
    }
   ],
   "source": [
    "speed_mean_df.shape"
   ]
  },
  {
   "cell_type": "markdown",
   "id": "f4050b7d",
   "metadata": {},
   "source": [
    "### Final info"
   ]
  },
  {
   "cell_type": "code",
   "execution_count": 19,
   "id": "8ddd5812",
   "metadata": {},
   "outputs": [],
   "source": [
    "df = orders_df \\\n",
    "    .merge(nodes_df, on='Id', how='inner') \\\n",
    "    .merge(speed_mean_df, on='Id', how='inner') \\\n",
    "    .merge(geolocation_df, on='Id', how='inner')"
   ]
  },
  {
   "cell_type": "code",
   "execution_count": 20,
   "id": "06c10791",
   "metadata": {},
   "outputs": [
    {
     "data": {
      "text/html": [
       "<div>\n",
       "<style scoped>\n",
       "    .dataframe tbody tr th:only-of-type {\n",
       "        vertical-align: middle;\n",
       "    }\n",
       "\n",
       "    .dataframe tbody tr th {\n",
       "        vertical-align: top;\n",
       "    }\n",
       "\n",
       "    .dataframe thead th {\n",
       "        text-align: right;\n",
       "    }\n",
       "</style>\n",
       "<table border=\"1\" class=\"dataframe\">\n",
       "  <thead>\n",
       "    <tr style=\"text-align: right;\">\n",
       "      <th></th>\n",
       "      <th>Id</th>\n",
       "      <th>running_time</th>\n",
       "      <th>completed_time</th>\n",
       "      <th>route_distance_km</th>\n",
       "      <th>delta_time</th>\n",
       "      <th>node_start</th>\n",
       "      <th>node_finish</th>\n",
       "      <th>distance</th>\n",
       "      <th>speed</th>\n",
       "      <th>average_speed</th>\n",
       "      <th>lon_start</th>\n",
       "      <th>lat_start</th>\n",
       "      <th>lon_end</th>\n",
       "      <th>lat_end</th>\n",
       "    </tr>\n",
       "  </thead>\n",
       "  <tbody>\n",
       "  </tbody>\n",
       "</table>\n",
       "</div>"
      ],
      "text/plain": [
       "Empty DataFrame\n",
       "Columns: [Id, running_time, completed_time, route_distance_km, delta_time, node_start, node_finish, distance, speed, average_speed, lon_start, lat_start, lon_end, lat_end]\n",
       "Index: []"
      ]
     },
     "execution_count": 20,
     "metadata": {},
     "output_type": "execute_result"
    }
   ],
   "source": [
    "df.head(n=100)"
   ]
  },
  {
   "cell_type": "code",
   "execution_count": 21,
   "id": "ce905c9f",
   "metadata": {},
   "outputs": [
    {
     "data": {
      "text/plain": [
       "(0, 14)"
      ]
     },
     "execution_count": 21,
     "metadata": {},
     "output_type": "execute_result"
    }
   ],
   "source": [
    "df.shape"
   ]
  }
 ],
 "metadata": {
  "kernelspec": {
   "display_name": "venv",
   "language": "python",
   "name": "venv"
  },
  "language_info": {
   "codemirror_mode": {
    "name": "ipython",
    "version": 3
   },
   "file_extension": ".py",
   "mimetype": "text/x-python",
   "name": "python",
   "nbconvert_exporter": "python",
   "pygments_lexer": "ipython3",
   "version": "3.10.9"
  }
 },
 "nbformat": 4,
 "nbformat_minor": 5
}
