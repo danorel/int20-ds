{
 "cells": [
  {
   "cell_type": "code",
   "execution_count": 1,
   "id": "da4e6046",
   "metadata": {},
   "outputs": [],
   "source": [
    "import pandas as pd"
   ]
  },
  {
   "cell_type": "code",
   "execution_count": 2,
   "id": "6b10d749",
   "metadata": {},
   "outputs": [],
   "source": [
    "orders_df = pd.read_csv(\"datasets/orders.csv\")\n",
    "nodes_df = pd.read_csv(\"datasets/nodes.csv\")"
   ]
  },
  {
   "cell_type": "markdown",
   "id": "02f9a246",
   "metadata": {},
   "source": [
    "### Orders info"
   ]
  },
  {
   "cell_type": "code",
   "execution_count": 3,
   "id": "f7701707",
   "metadata": {},
   "outputs": [
    {
     "data": {
      "text/plain": [
       "(6000, 5)"
      ]
     },
     "execution_count": 3,
     "metadata": {},
     "output_type": "execute_result"
    }
   ],
   "source": [
    "orders_df.shape"
   ]
  },
  {
   "cell_type": "code",
   "execution_count": 4,
   "id": "c866c63d",
   "metadata": {},
   "outputs": [
    {
     "data": {
      "text/plain": [
       "Id                     int64\n",
       "running_time          object\n",
       "completed_time        object\n",
       "route_distance_km    float64\n",
       "delta_time           float64\n",
       "dtype: object"
      ]
     },
     "execution_count": 4,
     "metadata": {},
     "output_type": "execute_result"
    }
   ],
   "source": [
    "orders_df.dtypes"
   ]
  },
  {
   "cell_type": "code",
   "execution_count": 5,
   "id": "a4af4bb7",
   "metadata": {},
   "outputs": [
    {
     "data": {
      "text/html": [
       "<div>\n",
       "<style scoped>\n",
       "    .dataframe tbody tr th:only-of-type {\n",
       "        vertical-align: middle;\n",
       "    }\n",
       "\n",
       "    .dataframe tbody tr th {\n",
       "        vertical-align: top;\n",
       "    }\n",
       "\n",
       "    .dataframe thead th {\n",
       "        text-align: right;\n",
       "    }\n",
       "</style>\n",
       "<table border=\"1\" class=\"dataframe\">\n",
       "  <thead>\n",
       "    <tr style=\"text-align: right;\">\n",
       "      <th></th>\n",
       "      <th>Id</th>\n",
       "      <th>route_distance_km</th>\n",
       "      <th>delta_time</th>\n",
       "    </tr>\n",
       "  </thead>\n",
       "  <tbody>\n",
       "    <tr>\n",
       "      <th>count</th>\n",
       "      <td>6.000000e+03</td>\n",
       "      <td>6000.000000</td>\n",
       "      <td>6000.000000</td>\n",
       "    </tr>\n",
       "    <tr>\n",
       "      <th>mean</th>\n",
       "      <td>-1.051751e+16</td>\n",
       "      <td>3.742921</td>\n",
       "      <td>620.067000</td>\n",
       "    </tr>\n",
       "    <tr>\n",
       "      <th>std</th>\n",
       "      <td>5.301450e+18</td>\n",
       "      <td>1.790675</td>\n",
       "      <td>211.458607</td>\n",
       "    </tr>\n",
       "    <tr>\n",
       "      <th>min</th>\n",
       "      <td>-9.211289e+18</td>\n",
       "      <td>0.000000</td>\n",
       "      <td>111.000000</td>\n",
       "    </tr>\n",
       "    <tr>\n",
       "      <th>25%</th>\n",
       "      <td>-4.591931e+18</td>\n",
       "      <td>2.389000</td>\n",
       "      <td>450.000000</td>\n",
       "    </tr>\n",
       "    <tr>\n",
       "      <th>50%</th>\n",
       "      <td>-4.665737e+16</td>\n",
       "      <td>3.408000</td>\n",
       "      <td>619.000000</td>\n",
       "    </tr>\n",
       "    <tr>\n",
       "      <th>75%</th>\n",
       "      <td>4.528935e+18</td>\n",
       "      <td>4.777250</td>\n",
       "      <td>795.250000</td>\n",
       "    </tr>\n",
       "    <tr>\n",
       "      <th>max</th>\n",
       "      <td>9.217263e+18</td>\n",
       "      <td>15.954000</td>\n",
       "      <td>999.000000</td>\n",
       "    </tr>\n",
       "  </tbody>\n",
       "</table>\n",
       "</div>"
      ],
      "text/plain": [
       "                 Id  route_distance_km   delta_time\n",
       "count  6.000000e+03        6000.000000  6000.000000\n",
       "mean  -1.051751e+16           3.742921   620.067000\n",
       "std    5.301450e+18           1.790675   211.458607\n",
       "min   -9.211289e+18           0.000000   111.000000\n",
       "25%   -4.591931e+18           2.389000   450.000000\n",
       "50%   -4.665737e+16           3.408000   619.000000\n",
       "75%    4.528935e+18           4.777250   795.250000\n",
       "max    9.217263e+18          15.954000   999.000000"
      ]
     },
     "execution_count": 5,
     "metadata": {},
     "output_type": "execute_result"
    }
   ],
   "source": [
    "orders_df.describe()"
   ]
  },
  {
   "cell_type": "code",
   "execution_count": 6,
   "id": "766686aa",
   "metadata": {},
   "outputs": [
    {
     "data": {
      "text/html": [
       "<div>\n",
       "<style scoped>\n",
       "    .dataframe tbody tr th:only-of-type {\n",
       "        vertical-align: middle;\n",
       "    }\n",
       "\n",
       "    .dataframe tbody tr th {\n",
       "        vertical-align: top;\n",
       "    }\n",
       "\n",
       "    .dataframe thead th {\n",
       "        text-align: right;\n",
       "    }\n",
       "</style>\n",
       "<table border=\"1\" class=\"dataframe\">\n",
       "  <thead>\n",
       "    <tr style=\"text-align: right;\">\n",
       "      <th></th>\n",
       "      <th>Id</th>\n",
       "      <th>running_time</th>\n",
       "      <th>completed_time</th>\n",
       "      <th>route_distance_km</th>\n",
       "      <th>delta_time</th>\n",
       "    </tr>\n",
       "  </thead>\n",
       "  <tbody>\n",
       "    <tr>\n",
       "      <th>0</th>\n",
       "      <td>7013180891535596072</td>\n",
       "      <td>2022-01-24 11:04:12</td>\n",
       "      <td>2022-01-24 11:14:07</td>\n",
       "      <td>4.061</td>\n",
       "      <td>595.0</td>\n",
       "    </tr>\n",
       "    <tr>\n",
       "      <th>1</th>\n",
       "      <td>-1446874864726772723</td>\n",
       "      <td>2022-01-24 18:31:03</td>\n",
       "      <td>2022-01-24 18:44:03</td>\n",
       "      <td>2.766</td>\n",
       "      <td>780.0</td>\n",
       "    </tr>\n",
       "    <tr>\n",
       "      <th>2</th>\n",
       "      <td>-7109832734562886369</td>\n",
       "      <td>2022-01-24 07:33:11</td>\n",
       "      <td>2022-01-24 07:38:33</td>\n",
       "      <td>2.022</td>\n",
       "      <td>322.0</td>\n",
       "    </tr>\n",
       "    <tr>\n",
       "      <th>3</th>\n",
       "      <td>5574536568610609787</td>\n",
       "      <td>2022-01-24 17:23:20</td>\n",
       "      <td>2022-01-24 17:35:11</td>\n",
       "      <td>4.309</td>\n",
       "      <td>711.0</td>\n",
       "    </tr>\n",
       "    <tr>\n",
       "      <th>4</th>\n",
       "      <td>-9022427340295022993</td>\n",
       "      <td>2022-01-24 18:01:45</td>\n",
       "      <td>2022-01-24 18:07:09</td>\n",
       "      <td>1.819</td>\n",
       "      <td>324.0</td>\n",
       "    </tr>\n",
       "  </tbody>\n",
       "</table>\n",
       "</div>"
      ],
      "text/plain": [
       "                    Id         running_time       completed_time  \\\n",
       "0  7013180891535596072  2022-01-24 11:04:12  2022-01-24 11:14:07   \n",
       "1 -1446874864726772723  2022-01-24 18:31:03  2022-01-24 18:44:03   \n",
       "2 -7109832734562886369  2022-01-24 07:33:11  2022-01-24 07:38:33   \n",
       "3  5574536568610609787  2022-01-24 17:23:20  2022-01-24 17:35:11   \n",
       "4 -9022427340295022993  2022-01-24 18:01:45  2022-01-24 18:07:09   \n",
       "\n",
       "   route_distance_km  delta_time  \n",
       "0              4.061       595.0  \n",
       "1              2.766       780.0  \n",
       "2              2.022       322.0  \n",
       "3              4.309       711.0  \n",
       "4              1.819       324.0  "
      ]
     },
     "execution_count": 6,
     "metadata": {},
     "output_type": "execute_result"
    }
   ],
   "source": [
    "orders_df.head()"
   ]
  },
  {
   "cell_type": "markdown",
   "id": "d6c38e3d",
   "metadata": {},
   "source": [
    "### Nodes info"
   ]
  },
  {
   "cell_type": "code",
   "execution_count": 7,
   "id": "f497c7a0",
   "metadata": {},
   "outputs": [
    {
     "data": {
      "text/plain": [
       "(490737, 5)"
      ]
     },
     "execution_count": 7,
     "metadata": {},
     "output_type": "execute_result"
    }
   ],
   "source": [
    "nodes_df.shape"
   ]
  },
  {
   "cell_type": "code",
   "execution_count": 8,
   "id": "762571b7",
   "metadata": {},
   "outputs": [
    {
     "data": {
      "text/plain": [
       "Id               int64\n",
       "node_start       int64\n",
       "node_finish      int64\n",
       "distance       float64\n",
       "speed          float64\n",
       "dtype: object"
      ]
     },
     "execution_count": 8,
     "metadata": {},
     "output_type": "execute_result"
    }
   ],
   "source": [
    "nodes_df.dtypes"
   ]
  },
  {
   "cell_type": "code",
   "execution_count": 9,
   "id": "ea66c97d",
   "metadata": {},
   "outputs": [
    {
     "data": {
      "text/html": [
       "<div>\n",
       "<style scoped>\n",
       "    .dataframe tbody tr th:only-of-type {\n",
       "        vertical-align: middle;\n",
       "    }\n",
       "\n",
       "    .dataframe tbody tr th {\n",
       "        vertical-align: top;\n",
       "    }\n",
       "\n",
       "    .dataframe thead th {\n",
       "        text-align: right;\n",
       "    }\n",
       "</style>\n",
       "<table border=\"1\" class=\"dataframe\">\n",
       "  <thead>\n",
       "    <tr style=\"text-align: right;\">\n",
       "      <th></th>\n",
       "      <th>Id</th>\n",
       "      <th>node_start</th>\n",
       "      <th>node_finish</th>\n",
       "      <th>distance</th>\n",
       "      <th>speed</th>\n",
       "    </tr>\n",
       "  </thead>\n",
       "  <tbody>\n",
       "    <tr>\n",
       "      <th>count</th>\n",
       "      <td>4.907370e+05</td>\n",
       "      <td>4.907370e+05</td>\n",
       "      <td>4.907370e+05</td>\n",
       "      <td>490737.000000</td>\n",
       "      <td>487140.000000</td>\n",
       "    </tr>\n",
       "    <tr>\n",
       "      <th>mean</th>\n",
       "      <td>-2.674246e+16</td>\n",
       "      <td>3.827615e+09</td>\n",
       "      <td>3.828398e+09</td>\n",
       "      <td>37.888818</td>\n",
       "      <td>31.277917</td>\n",
       "    </tr>\n",
       "    <tr>\n",
       "      <th>std</th>\n",
       "      <td>5.313806e+18</td>\n",
       "      <td>2.699572e+09</td>\n",
       "      <td>2.699417e+09</td>\n",
       "      <td>43.612807</td>\n",
       "      <td>10.139868</td>\n",
       "    </tr>\n",
       "    <tr>\n",
       "      <th>min</th>\n",
       "      <td>-9.211289e+18</td>\n",
       "      <td>1.098042e+07</td>\n",
       "      <td>1.098042e+07</td>\n",
       "      <td>0.076575</td>\n",
       "      <td>5.000000</td>\n",
       "    </tr>\n",
       "    <tr>\n",
       "      <th>25%</th>\n",
       "      <td>-4.636557e+18</td>\n",
       "      <td>1.570777e+09</td>\n",
       "      <td>1.570777e+09</td>\n",
       "      <td>9.540248</td>\n",
       "      <td>24.000000</td>\n",
       "    </tr>\n",
       "    <tr>\n",
       "      <th>50%</th>\n",
       "      <td>-5.419054e+16</td>\n",
       "      <td>4.439628e+09</td>\n",
       "      <td>4.439628e+09</td>\n",
       "      <td>22.170245</td>\n",
       "      <td>30.000000</td>\n",
       "    </tr>\n",
       "    <tr>\n",
       "      <th>75%</th>\n",
       "      <td>4.528768e+18</td>\n",
       "      <td>5.214753e+09</td>\n",
       "      <td>5.214753e+09</td>\n",
       "      <td>50.033934</td>\n",
       "      <td>37.000000</td>\n",
       "    </tr>\n",
       "    <tr>\n",
       "      <th>max</th>\n",
       "      <td>9.217263e+18</td>\n",
       "      <td>8.952487e+09</td>\n",
       "      <td>8.952487e+09</td>\n",
       "      <td>946.738371</td>\n",
       "      <td>100.000000</td>\n",
       "    </tr>\n",
       "  </tbody>\n",
       "</table>\n",
       "</div>"
      ],
      "text/plain": [
       "                 Id    node_start   node_finish       distance          speed\n",
       "count  4.907370e+05  4.907370e+05  4.907370e+05  490737.000000  487140.000000\n",
       "mean  -2.674246e+16  3.827615e+09  3.828398e+09      37.888818      31.277917\n",
       "std    5.313806e+18  2.699572e+09  2.699417e+09      43.612807      10.139868\n",
       "min   -9.211289e+18  1.098042e+07  1.098042e+07       0.076575       5.000000\n",
       "25%   -4.636557e+18  1.570777e+09  1.570777e+09       9.540248      24.000000\n",
       "50%   -5.419054e+16  4.439628e+09  4.439628e+09      22.170245      30.000000\n",
       "75%    4.528768e+18  5.214753e+09  5.214753e+09      50.033934      37.000000\n",
       "max    9.217263e+18  8.952487e+09  8.952487e+09     946.738371     100.000000"
      ]
     },
     "execution_count": 9,
     "metadata": {},
     "output_type": "execute_result"
    }
   ],
   "source": [
    "nodes_df.describe()"
   ]
  },
  {
   "cell_type": "code",
   "execution_count": 10,
   "id": "5ef73f38",
   "metadata": {},
   "outputs": [
    {
     "data": {
      "text/html": [
       "<div>\n",
       "<style scoped>\n",
       "    .dataframe tbody tr th:only-of-type {\n",
       "        vertical-align: middle;\n",
       "    }\n",
       "\n",
       "    .dataframe tbody tr th {\n",
       "        vertical-align: top;\n",
       "    }\n",
       "\n",
       "    .dataframe thead th {\n",
       "        text-align: right;\n",
       "    }\n",
       "</style>\n",
       "<table border=\"1\" class=\"dataframe\">\n",
       "  <thead>\n",
       "    <tr style=\"text-align: right;\">\n",
       "      <th></th>\n",
       "      <th>Id</th>\n",
       "      <th>node_start</th>\n",
       "      <th>node_finish</th>\n",
       "      <th>distance</th>\n",
       "      <th>speed</th>\n",
       "    </tr>\n",
       "  </thead>\n",
       "  <tbody>\n",
       "    <tr>\n",
       "      <th>0</th>\n",
       "      <td>1403210517021349791</td>\n",
       "      <td>290773715</td>\n",
       "      <td>2041636852</td>\n",
       "      <td>64.755864</td>\n",
       "      <td>36.0</td>\n",
       "    </tr>\n",
       "    <tr>\n",
       "      <th>1</th>\n",
       "      <td>1403210517021349791</td>\n",
       "      <td>290773722</td>\n",
       "      <td>2163829963</td>\n",
       "      <td>59.012828</td>\n",
       "      <td>36.0</td>\n",
       "    </tr>\n",
       "    <tr>\n",
       "      <th>2</th>\n",
       "      <td>1403210517021349791</td>\n",
       "      <td>290773723</td>\n",
       "      <td>3129305123</td>\n",
       "      <td>8.709567</td>\n",
       "      <td>34.0</td>\n",
       "    </tr>\n",
       "    <tr>\n",
       "      <th>3</th>\n",
       "      <td>1403210517021349791</td>\n",
       "      <td>291071720</td>\n",
       "      <td>5216935099</td>\n",
       "      <td>275.796769</td>\n",
       "      <td>33.0</td>\n",
       "    </tr>\n",
       "    <tr>\n",
       "      <th>4</th>\n",
       "      <td>1403210517021349791</td>\n",
       "      <td>297978510</td>\n",
       "      <td>3684572319</td>\n",
       "      <td>8.141696</td>\n",
       "      <td>38.0</td>\n",
       "    </tr>\n",
       "  </tbody>\n",
       "</table>\n",
       "</div>"
      ],
      "text/plain": [
       "                    Id  node_start  node_finish    distance  speed\n",
       "0  1403210517021349791   290773715   2041636852   64.755864   36.0\n",
       "1  1403210517021349791   290773722   2163829963   59.012828   36.0\n",
       "2  1403210517021349791   290773723   3129305123    8.709567   34.0\n",
       "3  1403210517021349791   291071720   5216935099  275.796769   33.0\n",
       "4  1403210517021349791   297978510   3684572319    8.141696   38.0"
      ]
     },
     "execution_count": 10,
     "metadata": {},
     "output_type": "execute_result"
    }
   ],
   "source": [
    "nodes_df.head()"
   ]
  },
  {
   "cell_type": "markdown",
   "id": "d2d86747",
   "metadata": {},
   "source": [
    "### Weather info"
   ]
  },
  {
   "cell_type": "code",
   "execution_count": 22,
   "id": "1dcfc112",
   "metadata": {},
   "outputs": [
    {
     "data": {
      "text/plain": [
       "(3, 1)"
      ]
     },
     "execution_count": 22,
     "metadata": {},
     "output_type": "execute_result"
    }
   ],
   "source": [
    "weather_df.shape"
   ]
  },
  {
   "cell_type": "code",
   "execution_count": 23,
   "id": "e2916d31",
   "metadata": {},
   "outputs": [
    {
     "data": {
      "text/html": [
       "<div>\n",
       "<style scoped>\n",
       "    .dataframe tbody tr th:only-of-type {\n",
       "        vertical-align: middle;\n",
       "    }\n",
       "\n",
       "    .dataframe tbody tr th {\n",
       "        vertical-align: top;\n",
       "    }\n",
       "\n",
       "    .dataframe thead th {\n",
       "        text-align: right;\n",
       "    }\n",
       "</style>\n",
       "<table border=\"1\" class=\"dataframe\">\n",
       "  <thead>\n",
       "    <tr style=\"text-align: right;\">\n",
       "      <th></th>\n",
       "      <th>data</th>\n",
       "    </tr>\n",
       "  </thead>\n",
       "  <tbody>\n",
       "    <tr>\n",
       "      <th>nearest_area</th>\n",
       "      <td>[{'areaName': [{'value': 'Odessa'}], 'country'...</td>\n",
       "    </tr>\n",
       "    <tr>\n",
       "      <th>request</th>\n",
       "      <td>[{'type': 'City', 'query': 'Odessa, Ukraine'}]</td>\n",
       "    </tr>\n",
       "    <tr>\n",
       "      <th>weather</th>\n",
       "      <td>[{'date': '2022-01-24', 'astronomy': [{'sunris...</td>\n",
       "    </tr>\n",
       "  </tbody>\n",
       "</table>\n",
       "</div>"
      ],
      "text/plain": [
       "                                                           data\n",
       "nearest_area  [{'areaName': [{'value': 'Odessa'}], 'country'...\n",
       "request          [{'type': 'City', 'query': 'Odessa, Ukraine'}]\n",
       "weather       [{'date': '2022-01-24', 'astronomy': [{'sunris..."
      ]
     },
     "execution_count": 23,
     "metadata": {},
     "output_type": "execute_result"
    }
   ],
   "source": [
    "weather_df.head()"
   ]
  },
  {
   "cell_type": "markdown",
   "id": "4b1e9109",
   "metadata": {},
   "source": [
    "### Final info"
   ]
  },
  {
   "cell_type": "code",
   "execution_count": 18,
   "id": "8ddd5812",
   "metadata": {},
   "outputs": [],
   "source": [
    "df = pd.merge(orders_df, nodes_df, on='Id', how='inner')"
   ]
  },
  {
   "cell_type": "code",
   "execution_count": 19,
   "id": "06c10791",
   "metadata": {},
   "outputs": [
    {
     "data": {
      "text/html": [
       "<div>\n",
       "<style scoped>\n",
       "    .dataframe tbody tr th:only-of-type {\n",
       "        vertical-align: middle;\n",
       "    }\n",
       "\n",
       "    .dataframe tbody tr th {\n",
       "        vertical-align: top;\n",
       "    }\n",
       "\n",
       "    .dataframe thead th {\n",
       "        text-align: right;\n",
       "    }\n",
       "</style>\n",
       "<table border=\"1\" class=\"dataframe\">\n",
       "  <thead>\n",
       "    <tr style=\"text-align: right;\">\n",
       "      <th></th>\n",
       "      <th>Id</th>\n",
       "      <th>running_time</th>\n",
       "      <th>completed_time</th>\n",
       "      <th>route_distance_km</th>\n",
       "      <th>delta_time</th>\n",
       "      <th>node_start</th>\n",
       "      <th>node_finish</th>\n",
       "      <th>distance</th>\n",
       "      <th>speed</th>\n",
       "    </tr>\n",
       "  </thead>\n",
       "  <tbody>\n",
       "    <tr>\n",
       "      <th>0</th>\n",
       "      <td>7013180891535596072</td>\n",
       "      <td>2022-01-24 11:04:12</td>\n",
       "      <td>2022-01-24 11:14:07</td>\n",
       "      <td>4.061</td>\n",
       "      <td>595.0</td>\n",
       "      <td>27128515</td>\n",
       "      <td>2071748215</td>\n",
       "      <td>12.679597</td>\n",
       "      <td>30.0</td>\n",
       "    </tr>\n",
       "    <tr>\n",
       "      <th>1</th>\n",
       "      <td>7013180891535596072</td>\n",
       "      <td>2022-01-24 11:04:12</td>\n",
       "      <td>2022-01-24 11:14:07</td>\n",
       "      <td>4.061</td>\n",
       "      <td>595.0</td>\n",
       "      <td>290954292</td>\n",
       "      <td>6617360936</td>\n",
       "      <td>60.818847</td>\n",
       "      <td>27.0</td>\n",
       "    </tr>\n",
       "    <tr>\n",
       "      <th>2</th>\n",
       "      <td>7013180891535596072</td>\n",
       "      <td>2022-01-24 11:04:12</td>\n",
       "      <td>2022-01-24 11:14:07</td>\n",
       "      <td>4.061</td>\n",
       "      <td>595.0</td>\n",
       "      <td>290954407</td>\n",
       "      <td>7843425705</td>\n",
       "      <td>5.872602</td>\n",
       "      <td>27.0</td>\n",
       "    </tr>\n",
       "    <tr>\n",
       "      <th>3</th>\n",
       "      <td>7013180891535596072</td>\n",
       "      <td>2022-01-24 11:04:12</td>\n",
       "      <td>2022-01-24 11:14:07</td>\n",
       "      <td>4.061</td>\n",
       "      <td>595.0</td>\n",
       "      <td>290957532</td>\n",
       "      <td>4429141860</td>\n",
       "      <td>24.343623</td>\n",
       "      <td>24.0</td>\n",
       "    </tr>\n",
       "    <tr>\n",
       "      <th>4</th>\n",
       "      <td>7013180891535596072</td>\n",
       "      <td>2022-01-24 11:04:12</td>\n",
       "      <td>2022-01-24 11:14:07</td>\n",
       "      <td>4.061</td>\n",
       "      <td>595.0</td>\n",
       "      <td>290957894</td>\n",
       "      <td>5514511519</td>\n",
       "      <td>5.789114</td>\n",
       "      <td>29.0</td>\n",
       "    </tr>\n",
       "    <tr>\n",
       "      <th>...</th>\n",
       "      <td>...</td>\n",
       "      <td>...</td>\n",
       "      <td>...</td>\n",
       "      <td>...</td>\n",
       "      <td>...</td>\n",
       "      <td>...</td>\n",
       "      <td>...</td>\n",
       "      <td>...</td>\n",
       "      <td>...</td>\n",
       "    </tr>\n",
       "    <tr>\n",
       "      <th>95</th>\n",
       "      <td>-1446874864726772723</td>\n",
       "      <td>2022-01-24 18:31:03</td>\n",
       "      <td>2022-01-24 18:44:03</td>\n",
       "      <td>2.766</td>\n",
       "      <td>780.0</td>\n",
       "      <td>298820872</td>\n",
       "      <td>2133368018</td>\n",
       "      <td>15.894753</td>\n",
       "      <td>27.0</td>\n",
       "    </tr>\n",
       "    <tr>\n",
       "      <th>96</th>\n",
       "      <td>-1446874864726772723</td>\n",
       "      <td>2022-01-24 18:31:03</td>\n",
       "      <td>2022-01-24 18:44:03</td>\n",
       "      <td>2.766</td>\n",
       "      <td>780.0</td>\n",
       "      <td>298820932</td>\n",
       "      <td>4807102926</td>\n",
       "      <td>48.852493</td>\n",
       "      <td>23.0</td>\n",
       "    </tr>\n",
       "    <tr>\n",
       "      <th>97</th>\n",
       "      <td>-1446874864726772723</td>\n",
       "      <td>2022-01-24 18:31:03</td>\n",
       "      <td>2022-01-24 18:44:03</td>\n",
       "      <td>2.766</td>\n",
       "      <td>780.0</td>\n",
       "      <td>298874065</td>\n",
       "      <td>4803494249</td>\n",
       "      <td>45.562071</td>\n",
       "      <td>30.0</td>\n",
       "    </tr>\n",
       "    <tr>\n",
       "      <th>98</th>\n",
       "      <td>-1446874864726772723</td>\n",
       "      <td>2022-01-24 18:31:03</td>\n",
       "      <td>2022-01-24 18:44:03</td>\n",
       "      <td>2.766</td>\n",
       "      <td>780.0</td>\n",
       "      <td>316679305</td>\n",
       "      <td>8952470954</td>\n",
       "      <td>3.463261</td>\n",
       "      <td>30.0</td>\n",
       "    </tr>\n",
       "    <tr>\n",
       "      <th>99</th>\n",
       "      <td>-1446874864726772723</td>\n",
       "      <td>2022-01-24 18:31:03</td>\n",
       "      <td>2022-01-24 18:44:03</td>\n",
       "      <td>2.766</td>\n",
       "      <td>780.0</td>\n",
       "      <td>316679312</td>\n",
       "      <td>4441087540</td>\n",
       "      <td>34.335687</td>\n",
       "      <td>25.0</td>\n",
       "    </tr>\n",
       "  </tbody>\n",
       "</table>\n",
       "<p>100 rows × 9 columns</p>\n",
       "</div>"
      ],
      "text/plain": [
       "                     Id         running_time       completed_time  \\\n",
       "0   7013180891535596072  2022-01-24 11:04:12  2022-01-24 11:14:07   \n",
       "1   7013180891535596072  2022-01-24 11:04:12  2022-01-24 11:14:07   \n",
       "2   7013180891535596072  2022-01-24 11:04:12  2022-01-24 11:14:07   \n",
       "3   7013180891535596072  2022-01-24 11:04:12  2022-01-24 11:14:07   \n",
       "4   7013180891535596072  2022-01-24 11:04:12  2022-01-24 11:14:07   \n",
       "..                  ...                  ...                  ...   \n",
       "95 -1446874864726772723  2022-01-24 18:31:03  2022-01-24 18:44:03   \n",
       "96 -1446874864726772723  2022-01-24 18:31:03  2022-01-24 18:44:03   \n",
       "97 -1446874864726772723  2022-01-24 18:31:03  2022-01-24 18:44:03   \n",
       "98 -1446874864726772723  2022-01-24 18:31:03  2022-01-24 18:44:03   \n",
       "99 -1446874864726772723  2022-01-24 18:31:03  2022-01-24 18:44:03   \n",
       "\n",
       "    route_distance_km  delta_time  node_start  node_finish   distance  speed  \n",
       "0               4.061       595.0    27128515   2071748215  12.679597   30.0  \n",
       "1               4.061       595.0   290954292   6617360936  60.818847   27.0  \n",
       "2               4.061       595.0   290954407   7843425705   5.872602   27.0  \n",
       "3               4.061       595.0   290957532   4429141860  24.343623   24.0  \n",
       "4               4.061       595.0   290957894   5514511519   5.789114   29.0  \n",
       "..                ...         ...         ...          ...        ...    ...  \n",
       "95              2.766       780.0   298820872   2133368018  15.894753   27.0  \n",
       "96              2.766       780.0   298820932   4807102926  48.852493   23.0  \n",
       "97              2.766       780.0   298874065   4803494249  45.562071   30.0  \n",
       "98              2.766       780.0   316679305   8952470954   3.463261   30.0  \n",
       "99              2.766       780.0   316679312   4441087540  34.335687   25.0  \n",
       "\n",
       "[100 rows x 9 columns]"
      ]
     },
     "execution_count": 19,
     "metadata": {},
     "output_type": "execute_result"
    }
   ],
   "source": [
    "df.head(n=100)"
   ]
  },
  {
   "cell_type": "code",
   "execution_count": 20,
   "id": "ce905c9f",
   "metadata": {},
   "outputs": [
    {
     "data": {
      "text/plain": [
       "(490737, 9)"
      ]
     },
     "execution_count": 20,
     "metadata": {},
     "output_type": "execute_result"
    }
   ],
   "source": [
    "df.shape"
   ]
  }
 ],
 "metadata": {
  "kernelspec": {
   "display_name": "env",
   "language": "python",
   "name": "env"
  },
  "language_info": {
   "codemirror_mode": {
    "name": "ipython",
    "version": 3
   },
   "file_extension": ".py",
   "mimetype": "text/x-python",
   "name": "python",
   "nbconvert_exporter": "python",
   "pygments_lexer": "ipython3",
   "version": "3.9.13"
  }
 },
 "nbformat": 4,
 "nbformat_minor": 5
}
